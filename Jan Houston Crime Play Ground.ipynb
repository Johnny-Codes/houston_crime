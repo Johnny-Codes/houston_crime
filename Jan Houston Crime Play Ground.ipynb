{
 "cells": [
  {
   "cell_type": "code",
   "execution_count": 1,
   "metadata": {},
   "outputs": [
    {
     "name": "stdout",
     "output_type": "stream",
     "text": [
      "\n",
      "What are you interested in?\n",
      "Murder, Rape, Robbery, Aggravated Assault, Burglary, Theft, Auto Theft\n",
      "This is case sensitive.\n",
      ">>> Murder\n",
      "There were 21 Murder 's in Houston in January\n"
     ]
    }
   ],
   "source": [
    "\n",
    "# coding: utf-8\n",
    "\n",
    "# In[ ]:\n",
    "\n",
    "\n",
    "# open file and make list of lists, split new lines and commas\n",
    "def openfile(file_name):\n",
    "    string_data = open(file_name).read()\n",
    "    string_list = string_data.split(\"\\n\")[1:]\n",
    "    final_list = []\n",
    "\n",
    "    for row in string_list:\n",
    "        string_fields = row.split(\",\")\n",
    "        int_fields = []\n",
    "        for value in string_fields:\n",
    "            int_fields.append(value)\n",
    "        final_list.append(int_fields)\n",
    "    return final_list\n",
    "\n",
    "# Trying to get strings that only contain integers changed to integers in the list\n",
    "# I think I need to do a new list, if the string is a string, pass it along, if it contains only numbers, turn it into an int\n",
    "# then store it into the new list // Proving difficult, and research shows a list should only contain one type of data\n",
    "# so maybe a dictionary?\n",
    "#   def var_to_int():\n",
    "#        for i in final_list:\n",
    "#            for z in i:\n",
    "#                if isinstance(z, int):\n",
    "#                    return final_list.map(int(z))\n",
    "#                else:\n",
    "#                    pass\n",
    "\n",
    "\n",
    "# Testing the above string to int function above\n",
    "#x = [[\"1\", \"2\", 3], [4, 5, 6], [\"7\", \"8\", \"9\"]]\n",
    "#y = isinstance(x[2], str)\n",
    "#x2 = []\n",
    "#x3 = []\n",
    "#for i in x:\n",
    "#    for z in i:\n",
    "#    print(z)\n",
    "#\n",
    "#    if str(z):\n",
    "#       print(\"yay?\")\n",
    "#       x2 = list(list(str(z) for z in i) for i in x if True)\n",
    "#\n",
    "#    elif int(z):\n",
    "#        print(\"not!\")\n",
    "#        x3 = list(list(str(z) for z in i) for i in x if True)\n",
    "#print(x)\n",
    "#print(x2)\n",
    "#print(x3)\n",
    "\n",
    "crime = openfile(\"Houston_crime_Jan_2017.csv\")\n",
    "#print(crime[0:10])\n",
    "\n",
    "def offense_type(input_file, user_input):\n",
    "    count = 0\n",
    "    for i in input_file:\n",
    "        for z in i:\n",
    "            #print(z)\n",
    "            #print(count)\n",
    "            if z != user_input:\n",
    "                pass\n",
    "            else:\n",
    "                count += 1\n",
    "    return count\n",
    "\n",
    "interest = input(\"\"\"\\nWhat are you interested in?\n",
    "Murder, Rape, Robbery, Aggravated Assault, Burglary, Theft, Auto Theft\n",
    "This is case sensitive.\n",
    ">>> \"\"\")\n",
    "\n",
    "t = offense_type(crime, interest)\n",
    "print(\"There were\", t, interest, \"'s in Houston in January\")\n",
    "\n",
    "#list2 = [list(map(int, z)) for z in x] # if list only contains integers\n",
    "#new_list = list(list(int(a) for a in b) for b in T1 if a.isdigit())\n",
    "\n",
    "\n",
    "# # Date[0], Hour[1], Offense Type[2], Beat[3], Premise[4], Block Range[5], Street Name[6], Type[7], Suffix[8], # offenses[9]\n",
    "# ## Murder Rape Robbery Aggravated Assault Burglary Theft Auto theft\n"
   ]
  },
  {
   "cell_type": "markdown",
   "metadata": {},
   "source": [
    "# Date[0], Hour[1], Offense Type[2], Beat[3], Premise[4], Block Range[5], Street Name[6], Type[7], Suffix[8], # offenses[9]\n",
    "## Murder Rape Robbery Aggravated Assault Burglary Theft Auto theft"
   ]
  }
 ],
 "metadata": {
  "kernelspec": {
   "display_name": "Python 3",
   "language": "python",
   "name": "python3"
  },
  "language_info": {
   "codemirror_mode": {
    "name": "ipython",
    "version": 3
   },
   "file_extension": ".py",
   "mimetype": "text/x-python",
   "name": "python",
   "nbconvert_exporter": "python",
   "pygments_lexer": "ipython3",
   "version": "3.6.4"
  }
 },
 "nbformat": 4,
 "nbformat_minor": 2
}
